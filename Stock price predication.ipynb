{
 "cells": [
  {
   "cell_type": "markdown",
   "id": "induced-double",
   "metadata": {},
   "source": [
    "# Stock price predication\n",
    "#### (using LSTM model)"
   ]
  },
  {
   "cell_type": "code",
   "execution_count": 1,
   "id": "underlying-investment",
   "metadata": {},
   "outputs": [
    {
     "data": {
      "text/html": [
       "<div>\n",
       "<style scoped>\n",
       "    .dataframe tbody tr th:only-of-type {\n",
       "        vertical-align: middle;\n",
       "    }\n",
       "\n",
       "    .dataframe tbody tr th {\n",
       "        vertical-align: top;\n",
       "    }\n",
       "\n",
       "    .dataframe thead th {\n",
       "        text-align: right;\n",
       "    }\n",
       "</style>\n",
       "<table border=\"1\" class=\"dataframe\">\n",
       "  <thead>\n",
       "    <tr style=\"text-align: right;\">\n",
       "      <th></th>\n",
       "      <th>Date</th>\n",
       "      <th>Open</th>\n",
       "      <th>High</th>\n",
       "      <th>Low</th>\n",
       "      <th>Last</th>\n",
       "      <th>Close</th>\n",
       "      <th>Total Trade Quantity</th>\n",
       "      <th>Turnover (Lacs)</th>\n",
       "    </tr>\n",
       "  </thead>\n",
       "  <tbody>\n",
       "    <tr>\n",
       "      <th>0</th>\n",
       "      <td>08-10-2018</td>\n",
       "      <td>208.00</td>\n",
       "      <td>222.25</td>\n",
       "      <td>206.85</td>\n",
       "      <td>216.00</td>\n",
       "      <td>215.15</td>\n",
       "      <td>4642146</td>\n",
       "      <td>10062.83</td>\n",
       "    </tr>\n",
       "    <tr>\n",
       "      <th>1</th>\n",
       "      <td>05-10-2018</td>\n",
       "      <td>217.00</td>\n",
       "      <td>218.60</td>\n",
       "      <td>205.90</td>\n",
       "      <td>210.25</td>\n",
       "      <td>209.20</td>\n",
       "      <td>3519515</td>\n",
       "      <td>7407.06</td>\n",
       "    </tr>\n",
       "    <tr>\n",
       "      <th>2</th>\n",
       "      <td>04-10-2018</td>\n",
       "      <td>223.50</td>\n",
       "      <td>227.80</td>\n",
       "      <td>216.15</td>\n",
       "      <td>217.25</td>\n",
       "      <td>218.20</td>\n",
       "      <td>1728786</td>\n",
       "      <td>3815.79</td>\n",
       "    </tr>\n",
       "    <tr>\n",
       "      <th>3</th>\n",
       "      <td>03-10-2018</td>\n",
       "      <td>230.00</td>\n",
       "      <td>237.50</td>\n",
       "      <td>225.75</td>\n",
       "      <td>226.45</td>\n",
       "      <td>227.60</td>\n",
       "      <td>1708590</td>\n",
       "      <td>3960.27</td>\n",
       "    </tr>\n",
       "    <tr>\n",
       "      <th>4</th>\n",
       "      <td>01-10-2018</td>\n",
       "      <td>234.55</td>\n",
       "      <td>234.60</td>\n",
       "      <td>221.05</td>\n",
       "      <td>230.30</td>\n",
       "      <td>230.90</td>\n",
       "      <td>1534749</td>\n",
       "      <td>3486.05</td>\n",
       "    </tr>\n",
       "  </tbody>\n",
       "</table>\n",
       "</div>"
      ],
      "text/plain": [
       "         Date    Open    High     Low    Last   Close  Total Trade Quantity  \\\n",
       "0  08-10-2018  208.00  222.25  206.85  216.00  215.15               4642146   \n",
       "1  05-10-2018  217.00  218.60  205.90  210.25  209.20               3519515   \n",
       "2  04-10-2018  223.50  227.80  216.15  217.25  218.20               1728786   \n",
       "3  03-10-2018  230.00  237.50  225.75  226.45  227.60               1708590   \n",
       "4  01-10-2018  234.55  234.60  221.05  230.30  230.90               1534749   \n",
       "\n",
       "   Turnover (Lacs)  \n",
       "0         10062.83  \n",
       "1          7407.06  \n",
       "2          3815.79  \n",
       "3          3960.27  \n",
       "4          3486.05  "
      ]
     },
     "execution_count": 1,
     "metadata": {},
     "output_type": "execute_result"
    }
   ],
   "source": [
    "# importing libraries and DATA \n",
    "\n",
    "import pandas as pd\n",
    "import numpy as np\n",
    "import matplotlib.pyplot as plt\n",
    "import tensorflow as tf\n",
    "import math\n",
    "from sklearn.metrics import mean_squared_error\n",
    "\n",
    "df=pd.read_csv('NSE-TATAGLOBAL11.csv')\n",
    "df.head()"
   ]
  },
  {
   "cell_type": "code",
   "execution_count": 2,
   "id": "accurate-battle",
   "metadata": {},
   "outputs": [
    {
     "data": {
      "text/html": [
       "<div>\n",
       "<style scoped>\n",
       "    .dataframe tbody tr th:only-of-type {\n",
       "        vertical-align: middle;\n",
       "    }\n",
       "\n",
       "    .dataframe tbody tr th {\n",
       "        vertical-align: top;\n",
       "    }\n",
       "\n",
       "    .dataframe thead th {\n",
       "        text-align: right;\n",
       "    }\n",
       "</style>\n",
       "<table border=\"1\" class=\"dataframe\">\n",
       "  <thead>\n",
       "    <tr style=\"text-align: right;\">\n",
       "      <th></th>\n",
       "      <th>Date</th>\n",
       "      <th>Open</th>\n",
       "      <th>High</th>\n",
       "      <th>Low</th>\n",
       "      <th>Last</th>\n",
       "      <th>Close</th>\n",
       "      <th>Total Trade Quantity</th>\n",
       "      <th>Turnover (Lacs)</th>\n",
       "    </tr>\n",
       "  </thead>\n",
       "  <tbody>\n",
       "    <tr>\n",
       "      <th>1230</th>\n",
       "      <td>14-10-2013</td>\n",
       "      <td>160.85</td>\n",
       "      <td>161.45</td>\n",
       "      <td>157.70</td>\n",
       "      <td>159.3</td>\n",
       "      <td>159.45</td>\n",
       "      <td>1281419</td>\n",
       "      <td>2039.09</td>\n",
       "    </tr>\n",
       "    <tr>\n",
       "      <th>1231</th>\n",
       "      <td>11-10-2013</td>\n",
       "      <td>161.15</td>\n",
       "      <td>163.45</td>\n",
       "      <td>159.00</td>\n",
       "      <td>159.8</td>\n",
       "      <td>160.05</td>\n",
       "      <td>1880046</td>\n",
       "      <td>3030.76</td>\n",
       "    </tr>\n",
       "    <tr>\n",
       "      <th>1232</th>\n",
       "      <td>10-10-2013</td>\n",
       "      <td>156.00</td>\n",
       "      <td>160.80</td>\n",
       "      <td>155.85</td>\n",
       "      <td>160.3</td>\n",
       "      <td>160.15</td>\n",
       "      <td>3124853</td>\n",
       "      <td>4978.80</td>\n",
       "    </tr>\n",
       "    <tr>\n",
       "      <th>1233</th>\n",
       "      <td>09-10-2013</td>\n",
       "      <td>155.70</td>\n",
       "      <td>158.20</td>\n",
       "      <td>154.15</td>\n",
       "      <td>155.3</td>\n",
       "      <td>155.55</td>\n",
       "      <td>2049580</td>\n",
       "      <td>3204.49</td>\n",
       "    </tr>\n",
       "    <tr>\n",
       "      <th>1234</th>\n",
       "      <td>08-10-2013</td>\n",
       "      <td>157.00</td>\n",
       "      <td>157.80</td>\n",
       "      <td>155.20</td>\n",
       "      <td>155.8</td>\n",
       "      <td>155.80</td>\n",
       "      <td>1720413</td>\n",
       "      <td>2688.94</td>\n",
       "    </tr>\n",
       "  </tbody>\n",
       "</table>\n",
       "</div>"
      ],
      "text/plain": [
       "            Date    Open    High     Low   Last   Close  Total Trade Quantity  \\\n",
       "1230  14-10-2013  160.85  161.45  157.70  159.3  159.45               1281419   \n",
       "1231  11-10-2013  161.15  163.45  159.00  159.8  160.05               1880046   \n",
       "1232  10-10-2013  156.00  160.80  155.85  160.3  160.15               3124853   \n",
       "1233  09-10-2013  155.70  158.20  154.15  155.3  155.55               2049580   \n",
       "1234  08-10-2013  157.00  157.80  155.20  155.8  155.80               1720413   \n",
       "\n",
       "      Turnover (Lacs)  \n",
       "1230          2039.09  \n",
       "1231          3030.76  \n",
       "1232          4978.80  \n",
       "1233          3204.49  \n",
       "1234          2688.94  "
      ]
     },
     "execution_count": 2,
     "metadata": {},
     "output_type": "execute_result"
    }
   ],
   "source": [
    "df.tail()"
   ]
  },
  {
   "cell_type": "code",
   "execution_count": 3,
   "id": "auburn-exercise",
   "metadata": {},
   "outputs": [],
   "source": [
    "df=df.iloc[::-1]"
   ]
  },
  {
   "cell_type": "code",
   "execution_count": 4,
   "id": "legendary-equality",
   "metadata": {},
   "outputs": [
    {
     "data": {
      "text/html": [
       "<div>\n",
       "<style scoped>\n",
       "    .dataframe tbody tr th:only-of-type {\n",
       "        vertical-align: middle;\n",
       "    }\n",
       "\n",
       "    .dataframe tbody tr th {\n",
       "        vertical-align: top;\n",
       "    }\n",
       "\n",
       "    .dataframe thead th {\n",
       "        text-align: right;\n",
       "    }\n",
       "</style>\n",
       "<table border=\"1\" class=\"dataframe\">\n",
       "  <thead>\n",
       "    <tr style=\"text-align: right;\">\n",
       "      <th></th>\n",
       "      <th>Date</th>\n",
       "      <th>Open</th>\n",
       "      <th>High</th>\n",
       "      <th>Low</th>\n",
       "      <th>Last</th>\n",
       "      <th>Close</th>\n",
       "      <th>Total Trade Quantity</th>\n",
       "      <th>Turnover (Lacs)</th>\n",
       "    </tr>\n",
       "  </thead>\n",
       "  <tbody>\n",
       "    <tr>\n",
       "      <th>1234</th>\n",
       "      <td>08-10-2013</td>\n",
       "      <td>157.00</td>\n",
       "      <td>157.80</td>\n",
       "      <td>155.20</td>\n",
       "      <td>155.8</td>\n",
       "      <td>155.80</td>\n",
       "      <td>1720413</td>\n",
       "      <td>2688.94</td>\n",
       "    </tr>\n",
       "    <tr>\n",
       "      <th>1233</th>\n",
       "      <td>09-10-2013</td>\n",
       "      <td>155.70</td>\n",
       "      <td>158.20</td>\n",
       "      <td>154.15</td>\n",
       "      <td>155.3</td>\n",
       "      <td>155.55</td>\n",
       "      <td>2049580</td>\n",
       "      <td>3204.49</td>\n",
       "    </tr>\n",
       "    <tr>\n",
       "      <th>1232</th>\n",
       "      <td>10-10-2013</td>\n",
       "      <td>156.00</td>\n",
       "      <td>160.80</td>\n",
       "      <td>155.85</td>\n",
       "      <td>160.3</td>\n",
       "      <td>160.15</td>\n",
       "      <td>3124853</td>\n",
       "      <td>4978.80</td>\n",
       "    </tr>\n",
       "    <tr>\n",
       "      <th>1231</th>\n",
       "      <td>11-10-2013</td>\n",
       "      <td>161.15</td>\n",
       "      <td>163.45</td>\n",
       "      <td>159.00</td>\n",
       "      <td>159.8</td>\n",
       "      <td>160.05</td>\n",
       "      <td>1880046</td>\n",
       "      <td>3030.76</td>\n",
       "    </tr>\n",
       "    <tr>\n",
       "      <th>1230</th>\n",
       "      <td>14-10-2013</td>\n",
       "      <td>160.85</td>\n",
       "      <td>161.45</td>\n",
       "      <td>157.70</td>\n",
       "      <td>159.3</td>\n",
       "      <td>159.45</td>\n",
       "      <td>1281419</td>\n",
       "      <td>2039.09</td>\n",
       "    </tr>\n",
       "  </tbody>\n",
       "</table>\n",
       "</div>"
      ],
      "text/plain": [
       "            Date    Open    High     Low   Last   Close  Total Trade Quantity  \\\n",
       "1234  08-10-2013  157.00  157.80  155.20  155.8  155.80               1720413   \n",
       "1233  09-10-2013  155.70  158.20  154.15  155.3  155.55               2049580   \n",
       "1232  10-10-2013  156.00  160.80  155.85  160.3  160.15               3124853   \n",
       "1231  11-10-2013  161.15  163.45  159.00  159.8  160.05               1880046   \n",
       "1230  14-10-2013  160.85  161.45  157.70  159.3  159.45               1281419   \n",
       "\n",
       "      Turnover (Lacs)  \n",
       "1234          2688.94  \n",
       "1233          3204.49  \n",
       "1232          4978.80  \n",
       "1231          3030.76  \n",
       "1230          2039.09  "
      ]
     },
     "execution_count": 4,
     "metadata": {},
     "output_type": "execute_result"
    }
   ],
   "source": [
    "df.head()"
   ]
  },
  {
   "cell_type": "code",
   "execution_count": 5,
   "id": "loose-excitement",
   "metadata": {},
   "outputs": [
    {
     "data": {
      "text/html": [
       "<div>\n",
       "<style scoped>\n",
       "    .dataframe tbody tr th:only-of-type {\n",
       "        vertical-align: middle;\n",
       "    }\n",
       "\n",
       "    .dataframe tbody tr th {\n",
       "        vertical-align: top;\n",
       "    }\n",
       "\n",
       "    .dataframe thead th {\n",
       "        text-align: right;\n",
       "    }\n",
       "</style>\n",
       "<table border=\"1\" class=\"dataframe\">\n",
       "  <thead>\n",
       "    <tr style=\"text-align: right;\">\n",
       "      <th></th>\n",
       "      <th>Date</th>\n",
       "      <th>Open</th>\n",
       "      <th>High</th>\n",
       "      <th>Low</th>\n",
       "      <th>Last</th>\n",
       "      <th>Close</th>\n",
       "      <th>Total Trade Quantity</th>\n",
       "      <th>Turnover (Lacs)</th>\n",
       "    </tr>\n",
       "  </thead>\n",
       "  <tbody>\n",
       "    <tr>\n",
       "      <th>4</th>\n",
       "      <td>01-10-2018</td>\n",
       "      <td>234.55</td>\n",
       "      <td>234.60</td>\n",
       "      <td>221.05</td>\n",
       "      <td>230.30</td>\n",
       "      <td>230.90</td>\n",
       "      <td>1534749</td>\n",
       "      <td>3486.05</td>\n",
       "    </tr>\n",
       "    <tr>\n",
       "      <th>3</th>\n",
       "      <td>03-10-2018</td>\n",
       "      <td>230.00</td>\n",
       "      <td>237.50</td>\n",
       "      <td>225.75</td>\n",
       "      <td>226.45</td>\n",
       "      <td>227.60</td>\n",
       "      <td>1708590</td>\n",
       "      <td>3960.27</td>\n",
       "    </tr>\n",
       "    <tr>\n",
       "      <th>2</th>\n",
       "      <td>04-10-2018</td>\n",
       "      <td>223.50</td>\n",
       "      <td>227.80</td>\n",
       "      <td>216.15</td>\n",
       "      <td>217.25</td>\n",
       "      <td>218.20</td>\n",
       "      <td>1728786</td>\n",
       "      <td>3815.79</td>\n",
       "    </tr>\n",
       "    <tr>\n",
       "      <th>1</th>\n",
       "      <td>05-10-2018</td>\n",
       "      <td>217.00</td>\n",
       "      <td>218.60</td>\n",
       "      <td>205.90</td>\n",
       "      <td>210.25</td>\n",
       "      <td>209.20</td>\n",
       "      <td>3519515</td>\n",
       "      <td>7407.06</td>\n",
       "    </tr>\n",
       "    <tr>\n",
       "      <th>0</th>\n",
       "      <td>08-10-2018</td>\n",
       "      <td>208.00</td>\n",
       "      <td>222.25</td>\n",
       "      <td>206.85</td>\n",
       "      <td>216.00</td>\n",
       "      <td>215.15</td>\n",
       "      <td>4642146</td>\n",
       "      <td>10062.83</td>\n",
       "    </tr>\n",
       "  </tbody>\n",
       "</table>\n",
       "</div>"
      ],
      "text/plain": [
       "         Date    Open    High     Low    Last   Close  Total Trade Quantity  \\\n",
       "4  01-10-2018  234.55  234.60  221.05  230.30  230.90               1534749   \n",
       "3  03-10-2018  230.00  237.50  225.75  226.45  227.60               1708590   \n",
       "2  04-10-2018  223.50  227.80  216.15  217.25  218.20               1728786   \n",
       "1  05-10-2018  217.00  218.60  205.90  210.25  209.20               3519515   \n",
       "0  08-10-2018  208.00  222.25  206.85  216.00  215.15               4642146   \n",
       "\n",
       "   Turnover (Lacs)  \n",
       "4          3486.05  \n",
       "3          3960.27  \n",
       "2          3815.79  \n",
       "1          7407.06  \n",
       "0         10062.83  "
      ]
     },
     "execution_count": 5,
     "metadata": {},
     "output_type": "execute_result"
    }
   ],
   "source": [
    "df.tail()"
   ]
  },
  {
   "cell_type": "code",
   "execution_count": 6,
   "id": "identical-joseph",
   "metadata": {},
   "outputs": [
    {
     "data": {
      "text/html": [
       "<div>\n",
       "<style scoped>\n",
       "    .dataframe tbody tr th:only-of-type {\n",
       "        vertical-align: middle;\n",
       "    }\n",
       "\n",
       "    .dataframe tbody tr th {\n",
       "        vertical-align: top;\n",
       "    }\n",
       "\n",
       "    .dataframe thead th {\n",
       "        text-align: right;\n",
       "    }\n",
       "</style>\n",
       "<table border=\"1\" class=\"dataframe\">\n",
       "  <thead>\n",
       "    <tr style=\"text-align: right;\">\n",
       "      <th></th>\n",
       "      <th>Date</th>\n",
       "      <th>Open</th>\n",
       "      <th>High</th>\n",
       "      <th>Low</th>\n",
       "      <th>Last</th>\n",
       "      <th>Close</th>\n",
       "      <th>Total Trade Quantity</th>\n",
       "      <th>Turnover (Lacs)</th>\n",
       "    </tr>\n",
       "  </thead>\n",
       "  <tbody>\n",
       "    <tr>\n",
       "      <th>0</th>\n",
       "      <td>08-10-2013</td>\n",
       "      <td>157.00</td>\n",
       "      <td>157.80</td>\n",
       "      <td>155.20</td>\n",
       "      <td>155.80</td>\n",
       "      <td>155.80</td>\n",
       "      <td>1720413</td>\n",
       "      <td>2688.94</td>\n",
       "    </tr>\n",
       "    <tr>\n",
       "      <th>1</th>\n",
       "      <td>09-10-2013</td>\n",
       "      <td>155.70</td>\n",
       "      <td>158.20</td>\n",
       "      <td>154.15</td>\n",
       "      <td>155.30</td>\n",
       "      <td>155.55</td>\n",
       "      <td>2049580</td>\n",
       "      <td>3204.49</td>\n",
       "    </tr>\n",
       "    <tr>\n",
       "      <th>2</th>\n",
       "      <td>10-10-2013</td>\n",
       "      <td>156.00</td>\n",
       "      <td>160.80</td>\n",
       "      <td>155.85</td>\n",
       "      <td>160.30</td>\n",
       "      <td>160.15</td>\n",
       "      <td>3124853</td>\n",
       "      <td>4978.80</td>\n",
       "    </tr>\n",
       "    <tr>\n",
       "      <th>3</th>\n",
       "      <td>11-10-2013</td>\n",
       "      <td>161.15</td>\n",
       "      <td>163.45</td>\n",
       "      <td>159.00</td>\n",
       "      <td>159.80</td>\n",
       "      <td>160.05</td>\n",
       "      <td>1880046</td>\n",
       "      <td>3030.76</td>\n",
       "    </tr>\n",
       "    <tr>\n",
       "      <th>4</th>\n",
       "      <td>14-10-2013</td>\n",
       "      <td>160.85</td>\n",
       "      <td>161.45</td>\n",
       "      <td>157.70</td>\n",
       "      <td>159.30</td>\n",
       "      <td>159.45</td>\n",
       "      <td>1281419</td>\n",
       "      <td>2039.09</td>\n",
       "    </tr>\n",
       "    <tr>\n",
       "      <th>...</th>\n",
       "      <td>...</td>\n",
       "      <td>...</td>\n",
       "      <td>...</td>\n",
       "      <td>...</td>\n",
       "      <td>...</td>\n",
       "      <td>...</td>\n",
       "      <td>...</td>\n",
       "      <td>...</td>\n",
       "    </tr>\n",
       "    <tr>\n",
       "      <th>1230</th>\n",
       "      <td>01-10-2018</td>\n",
       "      <td>234.55</td>\n",
       "      <td>234.60</td>\n",
       "      <td>221.05</td>\n",
       "      <td>230.30</td>\n",
       "      <td>230.90</td>\n",
       "      <td>1534749</td>\n",
       "      <td>3486.05</td>\n",
       "    </tr>\n",
       "    <tr>\n",
       "      <th>1231</th>\n",
       "      <td>03-10-2018</td>\n",
       "      <td>230.00</td>\n",
       "      <td>237.50</td>\n",
       "      <td>225.75</td>\n",
       "      <td>226.45</td>\n",
       "      <td>227.60</td>\n",
       "      <td>1708590</td>\n",
       "      <td>3960.27</td>\n",
       "    </tr>\n",
       "    <tr>\n",
       "      <th>1232</th>\n",
       "      <td>04-10-2018</td>\n",
       "      <td>223.50</td>\n",
       "      <td>227.80</td>\n",
       "      <td>216.15</td>\n",
       "      <td>217.25</td>\n",
       "      <td>218.20</td>\n",
       "      <td>1728786</td>\n",
       "      <td>3815.79</td>\n",
       "    </tr>\n",
       "    <tr>\n",
       "      <th>1233</th>\n",
       "      <td>05-10-2018</td>\n",
       "      <td>217.00</td>\n",
       "      <td>218.60</td>\n",
       "      <td>205.90</td>\n",
       "      <td>210.25</td>\n",
       "      <td>209.20</td>\n",
       "      <td>3519515</td>\n",
       "      <td>7407.06</td>\n",
       "    </tr>\n",
       "    <tr>\n",
       "      <th>1234</th>\n",
       "      <td>08-10-2018</td>\n",
       "      <td>208.00</td>\n",
       "      <td>222.25</td>\n",
       "      <td>206.85</td>\n",
       "      <td>216.00</td>\n",
       "      <td>215.15</td>\n",
       "      <td>4642146</td>\n",
       "      <td>10062.83</td>\n",
       "    </tr>\n",
       "  </tbody>\n",
       "</table>\n",
       "<p>1235 rows × 8 columns</p>\n",
       "</div>"
      ],
      "text/plain": [
       "            Date    Open    High     Low    Last   Close  \\\n",
       "0     08-10-2013  157.00  157.80  155.20  155.80  155.80   \n",
       "1     09-10-2013  155.70  158.20  154.15  155.30  155.55   \n",
       "2     10-10-2013  156.00  160.80  155.85  160.30  160.15   \n",
       "3     11-10-2013  161.15  163.45  159.00  159.80  160.05   \n",
       "4     14-10-2013  160.85  161.45  157.70  159.30  159.45   \n",
       "...          ...     ...     ...     ...     ...     ...   \n",
       "1230  01-10-2018  234.55  234.60  221.05  230.30  230.90   \n",
       "1231  03-10-2018  230.00  237.50  225.75  226.45  227.60   \n",
       "1232  04-10-2018  223.50  227.80  216.15  217.25  218.20   \n",
       "1233  05-10-2018  217.00  218.60  205.90  210.25  209.20   \n",
       "1234  08-10-2018  208.00  222.25  206.85  216.00  215.15   \n",
       "\n",
       "      Total Trade Quantity  Turnover (Lacs)  \n",
       "0                  1720413          2688.94  \n",
       "1                  2049580          3204.49  \n",
       "2                  3124853          4978.80  \n",
       "3                  1880046          3030.76  \n",
       "4                  1281419          2039.09  \n",
       "...                    ...              ...  \n",
       "1230               1534749          3486.05  \n",
       "1231               1708590          3960.27  \n",
       "1232               1728786          3815.79  \n",
       "1233               3519515          7407.06  \n",
       "1234               4642146         10062.83  \n",
       "\n",
       "[1235 rows x 8 columns]"
      ]
     },
     "execution_count": 6,
     "metadata": {},
     "output_type": "execute_result"
    }
   ],
   "source": [
    "df.reset_index(drop=True, inplace=True)\n",
    "df"
   ]
  },
  {
   "cell_type": "markdown",
   "id": "accomplished-speed",
   "metadata": {},
   "source": [
    "### predication for stocks closing price"
   ]
  },
  {
   "cell_type": "code",
   "execution_count": 7,
   "id": "governing-rating",
   "metadata": {},
   "outputs": [],
   "source": [
    "df=df['Close']"
   ]
  },
  {
   "cell_type": "code",
   "execution_count": 8,
   "id": "liquid-flash",
   "metadata": {},
   "outputs": [
    {
     "data": {
      "text/plain": [
       "[<matplotlib.lines.Line2D at 0x2159ce0ceb0>]"
      ]
     },
     "execution_count": 8,
     "metadata": {},
     "output_type": "execute_result"
    },
    {
     "data": {
      "image/png": "[encoded data removed]",
      "text/plain": [
       "<Figure size 432x288 with 1 Axes>"
      ]
     },
     "metadata": {
      "needs_background": "light"
     },
     "output_type": "display_data"
    }
   ],
   "source": [
    "plt.plot(df,'b')"
   ]
  },
  {
   "cell_type": "markdown",
   "id": "damaged-leone",
   "metadata": {},
   "source": [
    "### Scaling prices"
   ]
  },
  {
   "cell_type": "code",
   "execution_count": 9,
   "id": "unauthorized-subscriber",
   "metadata": {},
   "outputs": [
    {
     "data": {
      "text/plain": [
       "array([[0.23823398],\n",
       "       [0.2371134 ],\n",
       "       [0.25773196],\n",
       "       ...,\n",
       "       [0.51792918],\n",
       "       [0.47758853],\n",
       "       [0.50425818]])"
      ]
     },
     "execution_count": 9,
     "metadata": {},
     "output_type": "execute_result"
    }
   ],
   "source": [
    "from sklearn.preprocessing import MinMaxScaler\n",
    "scaler=MinMaxScaler(feature_range=(0,1))\n",
    "df=scaler.fit_transform(np.array(df).reshape(-1,1))\n",
    "df"
   ]
  },
  {
   "cell_type": "markdown",
   "id": "fresh-robert",
   "metadata": {},
   "source": [
    "### Splitting dataset into train and test split "
   ]
  },
  {
   "cell_type": "code",
   "execution_count": 10,
   "id": "mental-vancouver",
   "metadata": {},
   "outputs": [
    {
     "data": {
      "text/plain": [
       "(864, 371)"
      ]
     },
     "execution_count": 10,
     "metadata": {},
     "output_type": "execute_result"
    }
   ],
   "source": [
    "train_size=int(len(df)*0.70)\n",
    "test_size=len(df)-train_size\n",
    "train_data,test_data=df[0:train_size,:],df[train_size:len(df),:1]\n",
    "train_size,test_size"
   ]
  },
  {
   "cell_type": "markdown",
   "id": "coordinated-italic",
   "metadata": {},
   "source": [
    "### Convert an array of values into a dataset matrix"
   ]
  },
  {
   "cell_type": "code",
   "execution_count": 11,
   "id": "still-medicaid",
   "metadata": {},
   "outputs": [],
   "source": [
    "def create_dataset(dataset, time_step):\n",
    "    dataX, dataY = [], []\n",
    "    for i in range(len(dataset)-time_step-1):\n",
    "        a = dataset[i:(i+time_step), 0]   ###i=0, 0,1,2,3-- 49,50\n",
    "        dataX.append(a)\n",
    "        dataY.append(dataset[i + time_step, 0])\n",
    "    return np.array(dataX), np.array(dataY)"
   ]
  },
  {
   "cell_type": "code",
   "execution_count": 12,
   "id": "initial-command",
   "metadata": {},
   "outputs": [],
   "source": [
    "# reshaping into X=t,t+1,t+2,t+3 and Y=t+4\n",
    "time_step = 100\n",
    "x_train, y_train = create_dataset(train_data, time_step)\n",
    "x_test, y_test = create_dataset(test_data, time_step)"
   ]
  },
  {
   "cell_type": "code",
   "execution_count": 13,
   "id": "facial-helping",
   "metadata": {},
   "outputs": [
    {
     "data": {
      "text/plain": [
       "((763, 100), (763,))"
      ]
     },
     "execution_count": 13,
     "metadata": {},
     "output_type": "execute_result"
    }
   ],
   "source": [
    "x_train.shape,y_train.shape"
   ]
  },
  {
   "cell_type": "code",
   "execution_count": 14,
   "id": "verbal-participant",
   "metadata": {},
   "outputs": [
    {
     "data": {
      "text/plain": [
       "((270, 100), (270,))"
      ]
     },
     "execution_count": 14,
     "metadata": {},
     "output_type": "execute_result"
    }
   ],
   "source": [
    "x_test.shape,y_test.shape"
   ]
  },
  {
   "cell_type": "code",
   "execution_count": 15,
   "id": "sharing-reputation",
   "metadata": {},
   "outputs": [],
   "source": [
    "# reshape input to be [samples, time steps, features] for LSTM\n",
    "x_train =x_train.reshape(x_train.shape[0],x_train.shape[1] , 1)\n",
    "x_test = x_test.reshape(x_test.shape[0],x_test.shape[1] , 1)"
   ]
  },
  {
   "cell_type": "code",
   "execution_count": 16,
   "id": "following-thought",
   "metadata": {},
   "outputs": [
    {
     "data": {
      "text/plain": [
       "(763, 100, 1)"
      ]
     },
     "execution_count": 16,
     "metadata": {},
     "output_type": "execute_result"
    }
   ],
   "source": [
    "x_train.shape"
   ]
  },
  {
   "cell_type": "markdown",
   "id": "caroline-visiting",
   "metadata": {},
   "source": [
    "### Using LSTM model "
   ]
  },
  {
   "cell_type": "code",
   "execution_count": 17,
   "id": "divine-ridge",
   "metadata": {},
   "outputs": [],
   "source": [
    "from tensorflow.keras.models import Sequential\n",
    "from tensorflow.keras.layers import Dense,LSTM,Dropout\n",
    "\n",
    "model=Sequential()\n",
    "model.add(LSTM(50,return_sequences=True,input_shape=(100,1)))\n",
    "model.add(LSTM(50,return_sequences=True))\n",
    "model.add(LSTM(50))\n",
    "model.add(Dense(1))\n",
    "model.compile(loss='mean_squared_error',optimizer='adam')"
   ]
  },
  {
   "cell_type": "code",
   "execution_count": 18,
   "id": "fiscal-metallic",
   "metadata": {},
   "outputs": [
    {
     "name": "stdout",
     "output_type": "stream",
     "text": [
      "Model: \"sequential\"\n",
      "_________________________________________________________________\n",
      " Layer (type)                Output Shape              Param #   \n",
      "=================================================================\n",
      " lstm (LSTM)                 (None, 100, 50)           10400     \n",
      "                                                                 \n",
      " lstm_1 (LSTM)               (None, 100, 50)           20200     \n",
      "                                                                 \n",
      " lstm_2 (LSTM)               (None, 50)                20200     \n",
      "                                                                 \n",
      " dense (Dense)               (None, 1)                 51        \n",
      "                                                                 \n",
      "=================================================================\n",
      "Total params: 50,851\n",
      "Trainable params: 50,851\n",
      "Non-trainable params: 0\n",
      "_________________________________________________________________\n"
     ]
    }
   ],
   "source": [
    "model.summary()"
   ]
  },
  {
   "cell_type": "code",
   "execution_count": 19,
   "id": "excited-potter",
   "metadata": {},
   "outputs": [
    {
     "name": "stdout",
     "output_type": "stream",
     "text": [
      "Epoch 1/100\n",
      "12/12 [==============================] - 7s 258ms/step - loss: 0.0100 - val_loss: 0.1307\n",
      "Epoch 2/100\n",
      "12/12 [==============================] - 2s 170ms/step - loss: 0.0025 - val_loss: 0.0468\n",
      "Epoch 3/100\n",
      "12/12 [==============================] - 2s 193ms/step - loss: 0.0015 - val_loss: 0.0341\n",
      "Epoch 4/100\n",
      "12/12 [==============================] - 2s 173ms/step - loss: 0.0011 - val_loss: 0.0087\n",
      "Epoch 5/100\n",
      "12/12 [==============================] - 2s 176ms/step - loss: 9.5998e-04 - val_loss: 0.0054\n",
      "Epoch 6/100\n",
      "12/12 [==============================] - 2s 192ms/step - loss: 9.2629e-04 - val_loss: 0.0063\n",
      "Epoch 7/100\n",
      "12/12 [==============================] - 2s 170ms/step - loss: 9.0178e-04 - val_loss: 0.0079\n",
      "Epoch 8/100\n",
      "12/12 [==============================] - 2s 170ms/step - loss: 8.8916e-04 - val_loss: 0.0064\n",
      "Epoch 9/100\n",
      "12/12 [==============================] - 2s 166ms/step - loss: 8.4978e-04 - val_loss: 0.0050\n",
      "Epoch 10/100\n",
      "12/12 [==============================] - 2s 183ms/step - loss: 8.1960e-04 - val_loss: 0.0046\n",
      "Epoch 11/100\n",
      "12/12 [==============================] - 2s 163ms/step - loss: 8.1709e-04 - val_loss: 0.0041\n",
      "Epoch 12/100\n",
      "12/12 [==============================] - 2s 160ms/step - loss: 7.8214e-04 - val_loss: 0.0039\n",
      "Epoch 13/100\n",
      "12/12 [==============================] - 2s 162ms/step - loss: 7.8733e-04 - val_loss: 0.0052\n",
      "Epoch 14/100\n",
      "12/12 [==============================] - 2s 173ms/step - loss: 7.3681e-04 - val_loss: 0.0039\n",
      "Epoch 15/100\n",
      "12/12 [==============================] - 2s 154ms/step - loss: 7.1752e-04 - val_loss: 0.0039\n",
      "Epoch 16/100\n",
      "12/12 [==============================] - 2s 174ms/step - loss: 7.2673e-04 - val_loss: 0.0034\n",
      "Epoch 17/100\n",
      "12/12 [==============================] - 2s 172ms/step - loss: 7.1868e-04 - val_loss: 0.0041\n",
      "Epoch 18/100\n",
      "12/12 [==============================] - 2s 161ms/step - loss: 6.5039e-04 - val_loss: 0.0031\n",
      "Epoch 19/100\n",
      "12/12 [==============================] - 2s 163ms/step - loss: 6.3992e-04 - val_loss: 0.0031\n",
      "Epoch 20/100\n",
      "12/12 [==============================] - 2s 174ms/step - loss: 6.4221e-04 - val_loss: 0.0043\n",
      "Epoch 21/100\n",
      "12/12 [==============================] - 2s 165ms/step - loss: 6.3678e-04 - val_loss: 0.0028\n",
      "Epoch 22/100\n",
      "12/12 [==============================] - 2s 170ms/step - loss: 5.9934e-04 - val_loss: 0.0032\n",
      "Epoch 23/100\n",
      "12/12 [==============================] - 2s 190ms/step - loss: 6.0142e-04 - val_loss: 0.0026\n",
      "Epoch 24/100\n",
      "12/12 [==============================] - 2s 191ms/step - loss: 5.9086e-04 - val_loss: 0.0039\n",
      "Epoch 25/100\n",
      "12/12 [==============================] - 2s 191ms/step - loss: 6.1280e-04 - val_loss: 0.0029\n",
      "Epoch 26/100\n",
      "12/12 [==============================] - 2s 174ms/step - loss: 5.5353e-04 - val_loss: 0.0027\n",
      "Epoch 27/100\n",
      "12/12 [==============================] - 2s 193ms/step - loss: 5.3018e-04 - val_loss: 0.0027\n",
      "Epoch 28/100\n",
      "12/12 [==============================] - 2s 176ms/step - loss: 5.3889e-04 - val_loss: 0.0037\n",
      "Epoch 29/100\n",
      "12/12 [==============================] - 2s 185ms/step - loss: 5.1437e-04 - val_loss: 0.0023\n",
      "Epoch 30/100\n",
      "12/12 [==============================] - 2s 176ms/step - loss: 5.0729e-04 - val_loss: 0.0028\n",
      "Epoch 31/100\n",
      "12/12 [==============================] - 2s 167ms/step - loss: 4.8881e-04 - val_loss: 0.0021\n",
      "Epoch 32/100\n",
      "12/12 [==============================] - 2s 187ms/step - loss: 5.3692e-04 - val_loss: 0.0046\n",
      "Epoch 33/100\n",
      "12/12 [==============================] - 2s 168ms/step - loss: 5.4835e-04 - val_loss: 0.0021\n",
      "Epoch 34/100\n",
      "12/12 [==============================] - 2s 179ms/step - loss: 5.4707e-04 - val_loss: 0.0037\n",
      "Epoch 35/100\n",
      "12/12 [==============================] - 2s 171ms/step - loss: 5.0232e-04 - val_loss: 0.0019\n",
      "Epoch 36/100\n",
      "12/12 [==============================] - 2s 169ms/step - loss: 4.7762e-04 - val_loss: 0.0039\n",
      "Epoch 37/100\n",
      "12/12 [==============================] - 2s 171ms/step - loss: 4.7378e-04 - val_loss: 0.0029\n",
      "Epoch 38/100\n",
      "12/12 [==============================] - 2s 169ms/step - loss: 4.4655e-04 - val_loss: 0.0019\n",
      "Epoch 39/100\n",
      "12/12 [==============================] - 2s 169ms/step - loss: 4.8253e-04 - val_loss: 0.0048\n",
      "Epoch 40/100\n",
      "12/12 [==============================] - 2s 174ms/step - loss: 4.5138e-04 - val_loss: 0.0036\n",
      "Epoch 41/100\n",
      "12/12 [==============================] - 2s 178ms/step - loss: 4.2361e-04 - val_loss: 0.0029\n",
      "Epoch 42/100\n",
      "12/12 [==============================] - 2s 170ms/step - loss: 4.1520e-04 - val_loss: 0.0033\n",
      "Epoch 43/100\n",
      "12/12 [==============================] - 2s 172ms/step - loss: 4.0880e-04 - val_loss: 0.0025\n",
      "Epoch 44/100\n",
      "12/12 [==============================] - 2s 173ms/step - loss: 4.0364e-04 - val_loss: 0.0021\n",
      "Epoch 45/100\n",
      "12/12 [==============================] - 2s 182ms/step - loss: 3.9081e-04 - val_loss: 0.0054\n",
      "Epoch 46/100\n",
      "12/12 [==============================] - 2s 200ms/step - loss: 3.9391e-04 - val_loss: 0.0029\n",
      "Epoch 47/100\n",
      "12/12 [==============================] - 2s 184ms/step - loss: 3.7565e-04 - val_loss: 0.0020\n",
      "Epoch 48/100\n",
      "12/12 [==============================] - 2s 194ms/step - loss: 4.0234e-04 - val_loss: 0.0039\n",
      "Epoch 49/100\n",
      "12/12 [==============================] - 2s 181ms/step - loss: 3.9950e-04 - val_loss: 0.0026\n",
      "Epoch 50/100\n",
      "12/12 [==============================] - 2s 176ms/step - loss: 4.0146e-04 - val_loss: 0.0030\n",
      "Epoch 51/100\n",
      "12/12 [==============================] - 2s 202ms/step - loss: 3.6901e-04 - val_loss: 0.0045\n",
      "Epoch 52/100\n",
      "12/12 [==============================] - 2s 186ms/step - loss: 3.6032e-04 - val_loss: 0.0038\n",
      "Epoch 53/100\n",
      "12/12 [==============================] - 2s 191ms/step - loss: 3.4338e-04 - val_loss: 0.0026\n",
      "Epoch 54/100\n",
      "12/12 [==============================] - 2s 175ms/step - loss: 3.4289e-04 - val_loss: 0.0072\n",
      "Epoch 55/100\n",
      "12/12 [==============================] - 2s 192ms/step - loss: 3.6659e-04 - val_loss: 0.0029\n",
      "Epoch 56/100\n",
      "12/12 [==============================] - 2s 185ms/step - loss: 3.3102e-04 - val_loss: 0.0034\n",
      "Epoch 57/100\n",
      "12/12 [==============================] - 2s 182ms/step - loss: 3.3199e-04 - val_loss: 0.0032\n",
      "Epoch 58/100\n",
      "12/12 [==============================] - 2s 185ms/step - loss: 3.2959e-04 - val_loss: 0.0036\n",
      "Epoch 59/100\n",
      "12/12 [==============================] - 2s 169ms/step - loss: 3.1508e-04 - val_loss: 0.0030\n",
      "Epoch 60/100\n",
      "12/12 [==============================] - 2s 180ms/step - loss: 3.2516e-04 - val_loss: 0.0046\n",
      "Epoch 61/100\n",
      "12/12 [==============================] - 2s 167ms/step - loss: 2.9853e-04 - val_loss: 0.0036\n",
      "Epoch 62/100\n",
      "12/12 [==============================] - 2s 181ms/step - loss: 3.2790e-04 - val_loss: 0.0021\n",
      "Epoch 63/100\n",
      "12/12 [==============================] - 2s 177ms/step - loss: 2.9796e-04 - val_loss: 0.0025\n",
      "Epoch 64/100\n",
      "12/12 [==============================] - 2s 179ms/step - loss: 2.9186e-04 - val_loss: 0.0033\n",
      "Epoch 65/100\n",
      "12/12 [==============================] - 2s 185ms/step - loss: 2.8922e-04 - val_loss: 0.0040\n",
      "Epoch 66/100\n",
      "12/12 [==============================] - 2s 166ms/step - loss: 2.9055e-04 - val_loss: 0.0035\n",
      "Epoch 67/100\n",
      "12/12 [==============================] - 2s 180ms/step - loss: 2.7458e-04 - val_loss: 0.0022\n",
      "Epoch 68/100\n",
      "12/12 [==============================] - 2s 168ms/step - loss: 2.8811e-04 - val_loss: 0.0035\n",
      "Epoch 69/100\n",
      "12/12 [==============================] - 2s 177ms/step - loss: 2.6262e-04 - val_loss: 0.0039\n",
      "Epoch 70/100\n",
      "12/12 [==============================] - 2s 181ms/step - loss: 2.6507e-04 - val_loss: 0.0019\n",
      "Epoch 71/100\n",
      "12/12 [==============================] - 2s 169ms/step - loss: 2.8545e-04 - val_loss: 0.0042\n",
      "Epoch 72/100\n",
      "12/12 [==============================] - 2s 189ms/step - loss: 2.5216e-04 - val_loss: 0.0018\n",
      "Epoch 73/100\n",
      "12/12 [==============================] - 2s 174ms/step - loss: 2.4758e-04 - val_loss: 0.0030\n",
      "Epoch 74/100\n",
      "12/12 [==============================] - 2s 191ms/step - loss: 2.4464e-04 - val_loss: 0.0034\n",
      "Epoch 75/100\n",
      "12/12 [==============================] - 2s 173ms/step - loss: 2.3547e-04 - val_loss: 0.0030\n",
      "Epoch 76/100\n",
      "12/12 [==============================] - 2s 174ms/step - loss: 2.4247e-04 - val_loss: 0.0024\n",
      "Epoch 77/100\n",
      "12/12 [==============================] - 2s 180ms/step - loss: 2.2801e-04 - val_loss: 0.0021\n",
      "Epoch 78/100\n",
      "12/12 [==============================] - 2s 170ms/step - loss: 2.4416e-04 - val_loss: 0.0020\n",
      "Epoch 79/100\n",
      "12/12 [==============================] - 2s 180ms/step - loss: 2.5509e-04 - val_loss: 0.0060\n",
      "Epoch 80/100\n",
      "12/12 [==============================] - 2s 171ms/step - loss: 2.8631e-04 - val_loss: 0.0018\n",
      "Epoch 81/100\n",
      "12/12 [==============================] - 2s 180ms/step - loss: 2.6004e-04 - val_loss: 0.0039\n",
      "Epoch 82/100\n",
      "12/12 [==============================] - 2s 175ms/step - loss: 2.3499e-04 - val_loss: 0.0040\n",
      "Epoch 83/100\n",
      "12/12 [==============================] - 2s 168ms/step - loss: 2.1618e-04 - val_loss: 0.0024\n",
      "Epoch 84/100\n",
      "12/12 [==============================] - 2s 180ms/step - loss: 2.1373e-04 - val_loss: 0.0036\n",
      "Epoch 85/100\n",
      "12/12 [==============================] - 2s 172ms/step - loss: 2.0939e-04 - val_loss: 0.0020\n",
      "Epoch 86/100\n",
      "12/12 [==============================] - 2s 175ms/step - loss: 2.2483e-04 - val_loss: 0.0042\n",
      "Epoch 87/100\n",
      "12/12 [==============================] - 2s 173ms/step - loss: 2.0648e-04 - val_loss: 0.0032\n",
      "Epoch 88/100\n",
      "12/12 [==============================] - 2s 172ms/step - loss: 2.0431e-04 - val_loss: 0.0024\n",
      "Epoch 89/100\n",
      "12/12 [==============================] - 2s 172ms/step - loss: 1.9300e-04 - val_loss: 0.0024\n",
      "Epoch 90/100\n",
      "12/12 [==============================] - 2s 171ms/step - loss: 1.8833e-04 - val_loss: 0.0023\n",
      "Epoch 91/100\n",
      "12/12 [==============================] - 2s 177ms/step - loss: 1.8687e-04 - val_loss: 0.0024\n",
      "Epoch 92/100\n",
      "12/12 [==============================] - 2s 174ms/step - loss: 1.9094e-04 - val_loss: 0.0034\n",
      "Epoch 93/100\n",
      "12/12 [==============================] - 2s 174ms/step - loss: 1.8662e-04 - val_loss: 0.0017\n",
      "Epoch 94/100\n",
      "12/12 [==============================] - 2s 180ms/step - loss: 1.8026e-04 - val_loss: 0.0016\n",
      "Epoch 95/100\n",
      "12/12 [==============================] - 2s 172ms/step - loss: 1.8938e-04 - val_loss: 0.0013\n",
      "Epoch 96/100\n",
      "12/12 [==============================] - 2s 179ms/step - loss: 2.0090e-04 - val_loss: 0.0014\n",
      "Epoch 97/100\n",
      "12/12 [==============================] - 2s 174ms/step - loss: 1.8186e-04 - val_loss: 0.0017\n",
      "Epoch 98/100\n",
      "12/12 [==============================] - 2s 187ms/step - loss: 1.7212e-04 - val_loss: 0.0015\n",
      "Epoch 99/100\n",
      "12/12 [==============================] - 2s 183ms/step - loss: 1.8260e-04 - val_loss: 0.0020\n",
      "Epoch 100/100\n",
      "12/12 [==============================] - 2s 189ms/step - loss: 1.6609e-04 - val_loss: 0.0014\n"
     ]
    },
    {
     "data": {
      "text/plain": [
       "<keras.callbacks.History at 0x215a01daf40>"
      ]
     },
     "execution_count": 19,
     "metadata": {},
     "output_type": "execute_result"
    }
   ],
   "source": [
    "model.fit(x_train,y_train,validation_data=(x_test,y_test),epochs=100,batch_size=64,verbose=1)"
   ]
  },
  {
   "cell_type": "markdown",
   "id": "combined-consent",
   "metadata": {},
   "source": [
    "### Prediction and checking performance metrics"
   ]
  },
  {
   "cell_type": "code",
   "execution_count": 20,
   "id": "supposed-briefs",
   "metadata": {},
   "outputs": [],
   "source": [
    "train_predict=model.predict(x_train)\n",
    "test_predict=model.predict(x_test)"
   ]
  },
  {
   "cell_type": "code",
   "execution_count": 21,
   "id": "jewish-accordance",
   "metadata": {},
   "outputs": [
    {
     "data": {
      "text/plain": [
       "141.02224963138733"
      ]
     },
     "execution_count": 21,
     "metadata": {},
     "output_type": "execute_result"
    }
   ],
   "source": [
    "#Transformback to original form\n",
    "train_predict=scaler.inverse_transform(train_predict)\n",
    "test_predict=scaler.inverse_transform(test_predict)\n",
    "\n",
    "#Calculate RMSE performance metrics\n",
    "math.sqrt(mean_squared_error(y_train,train_predict))"
   ]
  },
  {
   "cell_type": "code",
   "execution_count": 22,
   "id": "critical-timothy",
   "metadata": {},
   "outputs": [
    {
     "data": {
      "text/plain": [
       "254.75590886225544"
      ]
     },
     "execution_count": 22,
     "metadata": {},
     "output_type": "execute_result"
    }
   ],
   "source": [
    "#Test Data RMSE\n",
    "math.sqrt(mean_squared_error(y_test,test_predict))"
   ]
  },
  {
   "cell_type": "code",
   "execution_count": 23,
   "id": "secondary-router",
   "metadata": {},
   "outputs": [
    {
     "data": {
      "text/plain": [
       "(270, 1)"
      ]
     },
     "execution_count": 23,
     "metadata": {},
     "output_type": "execute_result"
    }
   ],
   "source": [
    "y_predicated=model.predict(x_test)\n",
    "y_predicated.shape"
   ]
  },
  {
   "cell_type": "code",
   "execution_count": 24,
   "id": "legitimate-mapping",
   "metadata": {},
   "outputs": [
    {
     "data": {
      "text/plain": [
       "(270,)"
      ]
     },
     "execution_count": 24,
     "metadata": {},
     "output_type": "execute_result"
    }
   ],
   "source": [
    "y_test.shape"
   ]
  },
  {
   "cell_type": "markdown",
   "id": "patent-marijuana",
   "metadata": {},
   "source": [
    "### Graph b/w predicate and real price "
   ]
  },
  {
   "cell_type": "code",
   "execution_count": 25,
   "id": "curious-homeless",
   "metadata": {},
   "outputs": [],
   "source": [
    "y_predicated=scaler.inverse_transform(y_predicated)\n",
    "y_test_1=scaler.inverse_transform(np.array(y_test).reshape(-1,1))"
   ]
  },
  {
   "cell_type": "code",
   "execution_count": 26,
   "id": "ancient-algebra",
   "metadata": {},
   "outputs": [
    {
     "data": {
      "image/png": "[encoded data removed]",
      "text/plain": [
       "<Figure size 864x432 with 1 Axes>"
      ]
     },
     "metadata": {
      "needs_background": "light"
     },
     "output_type": "display_data"
    }
   ],
   "source": [
    "plt.figure(figsize=(12,6))\n",
    "plt.plot(y_test_1,'b',label='Original price')\n",
    "plt.plot(y_predicated,'r',label='Predicated price')\n",
    "plt.xlabel('Time')\n",
    "plt.ylabel('Price')\n",
    "plt.legend()\n",
    "plt.show()"
   ]
  },
  {
   "cell_type": "markdown",
   "id": "developed-trail",
   "metadata": {},
   "source": [
    "### Predicating future 30 Days prices "
   ]
  },
  {
   "cell_type": "code",
   "execution_count": 27,
   "id": "ancient-break",
   "metadata": {},
   "outputs": [
    {
     "data": {
      "text/plain": [
       "371"
      ]
     },
     "execution_count": 27,
     "metadata": {},
     "output_type": "execute_result"
    }
   ],
   "source": [
    "# for predication i have to take previous 100 day data \n",
    "len(test_data)"
   ]
  },
  {
   "cell_type": "code",
   "execution_count": 28,
   "id": "intense-calcium",
   "metadata": {},
   "outputs": [
    {
     "data": {
      "text/plain": [
       "(1, 100)"
      ]
     },
     "execution_count": 28,
     "metadata": {},
     "output_type": "execute_result"
    }
   ],
   "source": [
    "# 371-100=271 \n",
    "x_input=test_data[271:].reshape(1,-1)\n",
    "x_input.shape"
   ]
  },
  {
   "cell_type": "code",
   "execution_count": 35,
   "id": "attended-pontiac",
   "metadata": {},
   "outputs": [],
   "source": [
    "temp_input=list(x_input)\n",
    "temp_input=temp_input[0].tolist()"
   ]
  },
  {
   "cell_type": "code",
   "execution_count": 30,
   "id": "plastic-liver",
   "metadata": {},
   "outputs": [
    {
     "data": {
      "text/plain": [
       "[[0.5054447054862976],\n",
       " [0.5242617130279541],\n",
       " [0.5366925001144409],\n",
       " [0.5406090617179871],\n",
       " [0.5348264575004578],\n",
       " [0.5219063758850098],\n",
       " [0.5066055059432983],\n",
       " [0.49364638328552246],\n",
       " [0.4859609305858612],\n",
       " [0.4840588867664337],\n",
       " [0.4864457845687866],\n",
       " [0.49058300256729126],\n",
       " [0.4939187169075012],\n",
       " [0.4946891665458679],\n",
       " [0.49232831597328186],\n",
       " [0.4874247908592224],\n",
       " [0.4812997877597809],\n",
       " [0.47540947794914246],\n",
       " [0.4708256721496582],\n",
       " [0.4679659903049469],\n",
       " [0.4666072130203247],\n",
       " [0.46610400080680847],\n",
       " [0.4656883180141449],\n",
       " [0.46473637223243713],\n",
       " [0.4629335105419159],\n",
       " [0.46030569076538086],\n",
       " [0.4571375548839569],\n",
       " [0.4538259208202362],\n",
       " [0.45072850584983826],\n",
       " [0.44806137681007385]]"
      ]
     },
     "execution_count": 30,
     "metadata": {},
     "output_type": "execute_result"
    }
   ],
   "source": [
    "from numpy import array\n",
    "\n",
    "lst_output=[]\n",
    "n_steps=100\n",
    "i=0\n",
    "while(i<30):\n",
    "    \n",
    "    if(len(temp_input)>100):\n",
    "        x_input=np.array(temp_input[1:])\n",
    "        x_input=x_input.reshape(1,-1)\n",
    "        x_input = x_input.reshape((1, n_steps, 1))\n",
    "        yhat = model.predict(x_input, verbose=0)\n",
    "        temp_input.extend(yhat[0].tolist())\n",
    "        temp_input=temp_input[1:]\n",
    "        lst_output.extend(yhat.tolist())\n",
    "        i=i+1\n",
    "    else:\n",
    "        x_input = x_input.reshape((1, n_steps,1))\n",
    "        yhat = model.predict(x_input, verbose=0)\n",
    "        temp_input.extend(yhat[0].tolist())\n",
    "        lst_output.extend(yhat.tolist())\n",
    "        i=i+1\n",
    "    \n",
    "\n",
    "lst_output"
   ]
  },
  {
   "cell_type": "code",
   "execution_count": 31,
   "id": "accepted-regulation",
   "metadata": {},
   "outputs": [],
   "source": [
    "day_new=np.arange(1,101)\n",
    "day_pred=np.arange(101,131)"
   ]
  },
  {
   "cell_type": "code",
   "execution_count": 32,
   "id": "velvet-librarian",
   "metadata": {},
   "outputs": [
    {
     "data": {
      "text/plain": [
       "1235"
      ]
     },
     "execution_count": 32,
     "metadata": {},
     "output_type": "execute_result"
    }
   ],
   "source": [
    "len(df)"
   ]
  },
  {
   "cell_type": "code",
   "execution_count": 33,
   "id": "mature-partnership",
   "metadata": {},
   "outputs": [
    {
     "data": {
      "text/plain": [
       "[<matplotlib.lines.Line2D at 0x215a9031730>]"
      ]
     },
     "execution_count": 33,
     "metadata": {},
     "output_type": "execute_result"
    },
    {
     "data": {
      "image/png": "[encoded data removed]",
      "text/plain": [
       "<Figure size 432x288 with 1 Axes>"
      ]
     },
     "metadata": {
      "needs_background": "light"
     },
     "output_type": "display_data"
    }
   ],
   "source": [
    "plt.plot(day_new,scaler.inverse_transform(df[1135:]),'b')\n",
    "plt.plot(day_pred,scaler.inverse_transform(lst_output),'r')"
   ]
  },
  {
   "cell_type": "markdown",
   "id": "intense-burst",
   "metadata": {},
   "source": [
    "### Next 30 days prices "
   ]
  },
  {
   "cell_type": "code",
   "execution_count": 34,
   "id": "desirable-beverage",
   "metadata": {},
   "outputs": [
    {
     "data": {
      "text/plain": [
       "array([[215.41471379],\n",
       "       [219.61278818],\n",
       "       [222.38609678],\n",
       "       [223.25988167],\n",
       "       [221.96978267],\n",
       "       [219.08731246],\n",
       "       [215.67368838],\n",
       "       [212.78250811],\n",
       "       [211.06788361],\n",
       "       [210.64353764],\n",
       "       [211.17605454],\n",
       "       [212.09906787],\n",
       "       [212.84326574],\n",
       "       [213.01515306],\n",
       "       [212.48844729],\n",
       "       [211.39447084],\n",
       "       [210.02798265],\n",
       "       [208.71385453],\n",
       "       [207.69120746],\n",
       "       [207.05321244],\n",
       "       [206.75006922],\n",
       "       [206.63780258],\n",
       "       [206.54506375],\n",
       "       [206.33268465],\n",
       "       [205.9304662 ],\n",
       "       [205.34419961],\n",
       "       [204.63738849],\n",
       "       [203.89856293],\n",
       "       [203.20752966],\n",
       "       [202.61249317]])"
      ]
     },
     "execution_count": 34,
     "metadata": {},
     "output_type": "execute_result"
    }
   ],
   "source": [
    "scaler.inverse_transform(lst_output)"
   ]
  }
 ],
 "metadata": {
  "kernelspec": {
   "display_name": "Python 3",
   "language": "python",
   "name": "python3"
  },
  "language_info": {
   "codemirror_mode": {
    "name": "ipython",
    "version": 3
   },
   "file_extension": ".py",
   "mimetype": "text/x-python",
   "name": "python",
   "nbconvert_exporter": "python",
   "pygments_lexer": "ipython3",
   "version": "3.9.1"
  }
 },
 "nbformat": 4,
 "nbformat_minor": 5
}
